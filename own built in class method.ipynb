{
 "cells": [
  {
   "cell_type": "code",
   "execution_count": null,
   "id": "f1e700a5",
   "metadata": {},
   "outputs": [],
   "source": []
  },
  {
   "cell_type": "code",
   "execution_count": 20,
   "id": "cbae37a7",
   "metadata": {},
   "outputs": [
    {
     "name": "stdout",
     "output_type": "stream",
     "text": [
      "100\n"
     ]
    }
   ],
   "source": [
    "class Solution (object):             #create a class        \n",
    "    def myPow(self , x , n):         #create a function\n",
    "        power = abs(n)\n",
    "        res = 1                      #taken as output response\n",
    "        while power:\n",
    "            if power & 1:\n",
    "                res *=x\n",
    "            x*=x\n",
    "            power>>=1\n",
    "        if n<0:\n",
    "            return 1/res\n",
    "        return res\n",
    "ob1=Solution()\n",
    "print(ob1.myPow(10,2))               #taken as input values"
   ]
  },
  {
   "cell_type": "markdown",
   "id": "b88c1cca",
   "metadata": {},
   "source": [
    "# TEXT CASES"
   ]
  },
  {
   "cell_type": "code",
   "execution_count": 33,
   "id": "55ba1195",
   "metadata": {},
   "outputs": [
    {
     "name": "stdout",
     "output_type": "stream",
     "text": [
      "-6400000\n"
     ]
    }
   ],
   "source": [
    "class Solution (object):             #create a class        \n",
    "    def myPow(self , x , n):         #create a function\n",
    "        power = abs(n)\n",
    "        res = 2                      #taken as output response\n",
    "        while power:\n",
    "            if power & 1:\n",
    "                res *=x\n",
    "            x*=x\n",
    "            power>>=1\n",
    "        if n<0:\n",
    "            return 1/res\n",
    "        return res\n",
    "ob1=Solution()\n",
    "print(ob1.myPow(-20,5))               #taken as input values"
   ]
  },
  {
   "cell_type": "code",
   "execution_count": null,
   "id": "b8e64d0c",
   "metadata": {},
   "outputs": [],
   "source": []
  },
  {
   "cell_type": "code",
   "execution_count": 27,
   "id": "2e5c9e4f",
   "metadata": {},
   "outputs": [
    {
     "name": "stdout",
     "output_type": "stream",
     "text": [
      "0.009260999999999998\n"
     ]
    }
   ],
   "source": [
    "class Solution (object):             #create a class        \n",
    "    def myPow(self , x , n):         #create a function\n",
    "        power = abs(n)\n",
    "        res = 1                      #taken as output response\n",
    "        while power:\n",
    "            if power & 1:\n",
    "                res *=x\n",
    "            x*=x\n",
    "            power>>=1\n",
    "        if n<0:\n",
    "            return 1/res\n",
    "        return res\n",
    "ob1=Solution()\n",
    "print(ob1.myPow(0.21,3))               #taken as input values"
   ]
  },
  {
   "cell_type": "code",
   "execution_count": null,
   "id": "664ec97f",
   "metadata": {},
   "outputs": [],
   "source": []
  }
 ],
 "metadata": {
  "kernelspec": {
   "display_name": "Python 3 (ipykernel)",
   "language": "python",
   "name": "python3"
  },
  "language_info": {
   "codemirror_mode": {
    "name": "ipython",
    "version": 3
   },
   "file_extension": ".py",
   "mimetype": "text/x-python",
   "name": "python",
   "nbconvert_exporter": "python",
   "pygments_lexer": "ipython3",
   "version": "3.10.1"
  }
 },
 "nbformat": 4,
 "nbformat_minor": 5
}
